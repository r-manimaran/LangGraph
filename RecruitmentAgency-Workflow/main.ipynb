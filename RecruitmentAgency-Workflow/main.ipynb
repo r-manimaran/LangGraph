{
 "cells": [
  {
   "cell_type": "markdown",
   "id": "1ed90c33",
   "metadata": {},
   "source": [
    "# Recruitment Agency Resume Analysis Workflow using LangGraph"
   ]
  },
  {
   "cell_type": "code",
   "execution_count": 4,
   "id": "64017ae8",
   "metadata": {},
   "outputs": [
    {
     "data": {
      "text/plain": [
       "True"
      ]
     },
     "execution_count": 4,
     "metadata": {},
     "output_type": "execute_result"
    }
   ],
   "source": [
    "from dotenv import load_dotenv\n",
    "load_dotenv()"
   ]
  },
  {
   "cell_type": "markdown",
   "id": "ffe4d4c2",
   "metadata": {},
   "source": [
    "## Try a sample chat to check the OPenAI Key with a chat"
   ]
  },
  {
   "cell_type": "code",
   "execution_count": 5,
   "id": "480727ad",
   "metadata": {},
   "outputs": [
    {
     "data": {
      "text/plain": [
       "AIMessage(content='Why do bears have hairy coats?\\n\\nFur protection!', additional_kwargs={'refusal': None}, response_metadata={'token_usage': {'completion_tokens': 12, 'prompt_tokens': 13, 'total_tokens': 25, 'completion_tokens_details': {'accepted_prediction_tokens': 0, 'audio_tokens': 0, 'reasoning_tokens': 0, 'rejected_prediction_tokens': 0}, 'prompt_tokens_details': {'audio_tokens': 0, 'cached_tokens': 0}}, 'model_name': 'gpt-3.5-turbo-0125', 'system_fingerprint': None, 'id': 'chatcmpl-BNgWmAPOt7yC4gx7YQOmM6MSTmK1P', 'finish_reason': 'stop', 'logprobs': None}, id='run-4cb1fe0f-74f3-4b3b-93ca-dae539600d42-0', usage_metadata={'input_tokens': 13, 'output_tokens': 12, 'total_tokens': 25, 'input_token_details': {'audio': 0, 'cache_read': 0}, 'output_token_details': {'audio': 0, 'reasoning': 0}})"
      ]
     },
     "execution_count": 5,
     "metadata": {},
     "output_type": "execute_result"
    }
   ],
   "source": [
    "from langchain_openai import ChatOpenAI\n",
    "from langchain_core.prompts import ChatPromptTemplate\n",
    "llm = ChatOpenAI()\n",
    "prompt = ChatPromptTemplate.from_template(\"tell me a joke about {foo}\")\n",
    "chain = prompt | llm\n",
    "chain.invoke({\"foo\": \"bears\"})\n"
   ]
  },
  {
   "cell_type": "markdown",
   "id": "06b50222",
   "metadata": {},
   "source": [
    "## Components of Langgraph\n",
    "- State\n",
    "- Nodes\n",
    "- Edges"
   ]
  },
  {
   "cell_type": "code",
   "execution_count": 26,
   "id": "9dfb5bde",
   "metadata": {},
   "outputs": [],
   "source": [
    "from typing_extensions import TypedDict\n",
    "class State(TypedDict):\n",
    "    job_description: str\n",
    "    application: str\n",
    "    experience_level: str\n",
    "    skill_match: str\n",
    "    response: str"
   ]
  },
  {
   "cell_type": "code",
   "execution_count": 62,
   "id": "e1ac3705",
   "metadata": {},
   "outputs": [],
   "source": [
    "from langgraph.graph import StateGraph, START, END\n",
    "workflow = StateGraph(State)"
   ]
  },
  {
   "cell_type": "code",
   "execution_count": 63,
   "id": "9fd3b7d0",
   "metadata": {},
   "outputs": [],
   "source": [
    "def categorize_experience(state:State) -> State:\n",
    "    print(\"\\n Categorizing the experience level of candidate:\")\n",
    "    prompt = ChatPromptTemplate.from_template(\n",
    "        \"\"\"\n",
    "        You are an experienced recruiter. \n",
    "        You are helping a candidate to improve their job search.\n",
    "        You are given the candidate's application.\n",
    "        You are asked to categorize the candidate's as 'Entry-level','Mid-level','Expert-level'.\n",
    "        Application:{application}\n",
    "    \"\"\")\n",
    "    chain = prompt | llm\n",
    "    experience_level = chain.invoke({\"application\": state[\"application\"]}).content\n",
    "    print(f\"Experience Level: {experience_level}\")\n",
    "    return {\"experience_level\": experience_level}\n"
   ]
  },
  {
   "cell_type": "code",
   "execution_count": 64,
   "id": "09b41a89",
   "metadata": {},
   "outputs": [],
   "source": [
    "def assess_Skillset(state: State) -> State:\n",
    "    print(\"Assessing Skillset\")\n",
    "    prompt = ChatPromptTemplate.from_template(\n",
    "        \"\"\"\n",
    "        You are a helpful assistant. You are helping a human with their career coaching. \n",
    "        You are given the application of a human and a job description. \n",
    "        You are asked to assess the human's skillset based on the job description. \n",
    "        \n",
    "        Application: {application}\n",
    "        Job Description: {job_description}\n",
    "\n",
    "        Your response should be either 'Match' or 'No Match'.\n",
    "        \"\"\"\n",
    "    )\n",
    "    chain = prompt | llm\n",
    "    skill_match = chain.invoke(\n",
    "        {\n",
    "            \"application\": state[\"application\"],\n",
    "            \"job_description\": state[\"job_description\"]\n",
    "        }\n",
    "    )\n",
    "    print(f\"Skill Match:{skill_match.content}\")\n",
    "    return {\"skill_match\": skill_match.content}   \n",
    "   "
   ]
  },
  {
   "cell_type": "code",
   "execution_count": 65,
   "id": "ad6cda5c",
   "metadata": {},
   "outputs": [],
   "source": [
    "def schedule_interview(state:State)-> State:\n",
    "    print(\"\\nSchedule_interview\")\n",
    "    return {\"response\":\"Candidate has been shortlisted for an HR interview\"}"
   ]
  },
  {
   "cell_type": "code",
   "execution_count": 66,
   "id": "a6c0d053",
   "metadata": {},
   "outputs": [],
   "source": [
    "def escalate_to_recruiter(state:State)->State:\n",
    "    print(\"\\nEscalating to recruiter\")\n",
    "    return {\"response\":\"Candidate has senior-level experience but doesn't match job skills.\"}\n",
    "\n"
   ]
  },
  {
   "cell_type": "code",
   "execution_count": 67,
   "id": "1a4d97c6",
   "metadata": {},
   "outputs": [],
   "source": [
    "def reject_application(state:State)->State:\n",
    "    print(\"\\n Sending reject email\")\n",
    "    return {\"response\":\"Candidate doesn't meet JD and has been rejected.\"}"
   ]
  },
  {
   "cell_type": "markdown",
   "id": "16aefec9",
   "metadata": {},
   "source": [
    "## Create the Nodes"
   ]
  },
  {
   "cell_type": "code",
   "execution_count": 68,
   "id": "02a0ceaa",
   "metadata": {},
   "outputs": [
    {
     "data": {
      "text/plain": [
       "<langgraph.graph.state.StateGraph at 0x1f15b304b90>"
      ]
     },
     "execution_count": 68,
     "metadata": {},
     "output_type": "execute_result"
    }
   ],
   "source": [
    "workflow.add_node(\"categorize_experience\", categorize_experience)\n",
    "workflow.add_node(\"assess_skillset\", assess_Skillset)\n",
    "workflow.add_node(\"schedule_interview\",schedule_interview)\n",
    "workflow.add_node(\"escalate_to_recruiter\",escalate_to_recruiter)\n",
    "workflow.add_node(\"reject_application\", reject_application)"
   ]
  },
  {
   "cell_type": "code",
   "execution_count": 69,
   "id": "c31f4850",
   "metadata": {},
   "outputs": [],
   "source": [
    "def route_app(state:State) ->str:\n",
    "    if(state[\"skill_match\"] == \"Match\"):\n",
    "        print(\"Executing Match Route\")\n",
    "        return \"schedule_interview\"\n",
    "    \n",
    "    elif(state[\"experience_level\"]==\"Senior-level\"):\n",
    "        print(\"Executing Senior-level Route\")\n",
    "        return \"escalate_to_recruiter\"\n",
    "    \n",
    "    else:\n",
    "        print(\"Executing Default Route\")\n",
    "        return \"reject_application\""
   ]
  },
  {
   "cell_type": "markdown",
   "id": "e7853d0a",
   "metadata": {},
   "source": [
    "### Create the Edges"
   ]
  },
  {
   "cell_type": "code",
   "execution_count": 70,
   "id": "4ef01a66",
   "metadata": {},
   "outputs": [
    {
     "data": {
      "text/plain": [
       "<langgraph.graph.state.StateGraph at 0x1f15b304b90>"
      ]
     },
     "execution_count": 70,
     "metadata": {},
     "output_type": "execute_result"
    }
   ],
   "source": [
    "# Normal edge\n",
    "workflow.add_edge(\"categorize_experience\",\"assess_skillset\")\n",
    "\n",
    "# conditional edge\n",
    "workflow.add_conditional_edges(\"assess_skillset\", route_app)\n",
    "\n",
    "# start and end node\n",
    "\n",
    "workflow.add_edge(START, \"categorize_experience\")\n",
    "\n",
    "workflow.add_edge(\"escalate_to_recruiter\", END)\n",
    "workflow.add_edge(\"reject_application\", END)\n",
    "workflow.add_edge(\"schedule_interview\",END)\n",
    "\n"
   ]
  },
  {
   "cell_type": "markdown",
   "id": "291332aa",
   "metadata": {},
   "source": [
    "### Compile the graph"
   ]
  },
  {
   "cell_type": "code",
   "execution_count": 71,
   "id": "20cda899",
   "metadata": {},
   "outputs": [],
   "source": [
    "app = workflow.compile()"
   ]
  },
  {
   "cell_type": "markdown",
   "id": "bcdb87c0",
   "metadata": {},
   "source": [
    "### Visualize the graph"
   ]
  },
  {
   "cell_type": "code",
   "execution_count": 72,
   "id": "65fa7ddd",
   "metadata": {},
   "outputs": [
    {
     "data": {
      "image/png": "[encoded data removed]",
      "text/plain": [
       "<IPython.core.display.Image object>"
      ]
     },
     "metadata": {},
     "output_type": "display_data"
    }
   ],
   "source": [
    "from IPython.display import Image, display\n",
    "from langchain_core.runnables.graph import CurveStyle, MermaidDrawMethod, NodeStyles\n",
    "display(Image(\n",
    "    app.get_graph().draw_mermaid_png(\n",
    "        draw_method = MermaidDrawMethod.API,\n",
    "    )\n",
    ")\n",
    ")"
   ]
  },
  {
   "cell_type": "markdown",
   "id": "65e10a3c",
   "metadata": {},
   "source": [
    "## Access the Lang Graph we have and check the execution"
   ]
  },
  {
   "cell_type": "code",
   "execution_count": 73,
   "id": "853a2def",
   "metadata": {},
   "outputs": [],
   "source": [
    "def run_candidate_screening(application: str, job_description: str):\n",
    "    results = app.invoke({\"application\":application, \"job_description\":job_description })\n",
    "    return {\n",
    "        \"experience_level\":results['experience_level'],\n",
    "        \"skill_match\":results[\"skill_match\"],\n",
    "        \"response\":results[\"response\"]\n",
    "    }"
   ]
  },
  {
   "cell_type": "code",
   "execution_count": 74,
   "id": "b93c4f79",
   "metadata": {},
   "outputs": [
    {
     "name": "stdout",
     "output_type": "stream",
     "text": [
      "\n",
      " Categorizing the experience level of candidate:\n",
      "Experience Level: Based on the information provided in the application, I would categorize this candidate as an 'Expert-level' candidate. With 20 years of experience in C# .Net development and experience in cloud services in Azure, the candidate has a wealth of knowledge and expertise that would qualify them for more advanced roles in the industry. I would recommend highlighting this expertise in their job search to attract opportunities that match their level of experience and skills.\n",
      "Assessing Skillset\n",
      "Skill Match:Match\n",
      "Executing Match Route\n",
      "\n",
      "Schedule_interview\n",
      "Application:  I have 20 years of C# .Net experience in developing Web application. Also I have experience in cloud services in Azure\n",
      "Job Description: I am looking for a candidate who has experience in developing Web application and cloud services in Azure\n",
      "Experience Level:Based on the information provided in the application, I would categorize this candidate as an 'Expert-level' candidate. With 20 years of experience in C# .Net development and experience in cloud services in Azure, the candidate has a wealth of knowledge and expertise that would qualify them for more advanced roles in the industry. I would recommend highlighting this expertise in their job search to attract opportunities that match their level of experience and skills.\n",
      "Skill Match:Match\n",
      "Response:Candidate has been shortlisted for an HR interview\n"
     ]
    }
   ],
   "source": [
    "application_text =\" I have 20 years of C# .Net experience in developing Web application. Also I have experience in cloud services in Azure\"\n",
    "job_description = \"I am looking for a candidate who has experience in developing Web application and cloud services in Azure\"\n",
    "results = run_candidate_screening(application_text, job_description)\n",
    "print(f\"Application: {application_text}\")\n",
    "print(f\"Job Description: {job_description}\")\n",
    "print(f\"Experience Level:{results[\"experience_level\"]}\")\n",
    "print(f\"Skill Match:{results[\"skill_match\"]}\")\n",
    "print(f\"Response:{results[\"response\"]}\")"
   ]
  },
  {
   "cell_type": "code",
   "execution_count": 75,
   "id": "1a5d1785",
   "metadata": {},
   "outputs": [
    {
     "name": "stdout",
     "output_type": "stream",
     "text": [
      "\n",
      " Categorizing the experience level of candidate:\n",
      "Experience Level: Based on the information provided in the candidate's application, I would categorize the candidate as an 'Expert-level' candidate. This is due to the candidate's extensive 20 years of experience in C# .Net development for Web applications, as well as their experience with cloud services in Azure. Candidates with this level of expertise are typically considered experts in their field and would likely be qualified for more senior or specialized roles in the industry.\n",
      "Assessing Skillset\n",
      "Skill Match:No Match\n",
      "Executing Default Route\n",
      "\n",
      " Sending reject email\n",
      "Application:  I have 20 years of C# .Net experience in developing Web application. Also I have experience in cloud services in Azure\n",
      "Job Description: I am looking for a candidate who has 15 experience in developing Web application and cloud services using Python\n",
      "Experience Level:Based on the information provided in the candidate's application, I would categorize the candidate as an 'Expert-level' candidate. This is due to the candidate's extensive 20 years of experience in C# .Net development for Web applications, as well as their experience with cloud services in Azure. Candidates with this level of expertise are typically considered experts in their field and would likely be qualified for more senior or specialized roles in the industry.\n",
      "Skill Match:No Match\n",
      "Response:Candidate doesn't meet JD and has been rejected.\n"
     ]
    }
   ],
   "source": [
    "application_text =\" I have 20 years of C# .Net experience in developing Web application. Also I have experience in cloud services in Azure\"\n",
    "job_description = \"I am looking for a candidate who has 15 experience in developing Web application and cloud services using Python\"\n",
    "results = run_candidate_screening(application_text, job_description)\n",
    "print(f\"Application: {application_text}\")\n",
    "print(f\"Job Description: {job_description}\")\n",
    "print(f\"Experience Level:{results[\"experience_level\"]}\")\n",
    "print(f\"Skill Match:{results[\"skill_match\"]}\")\n",
    "print(f\"Response:{results[\"response\"]}\")"
   ]
  }
 ],
 "metadata": {
  "kernelspec": {
   "display_name": "venv",
   "language": "python",
   "name": "python3"
  },
  "language_info": {
   "codemirror_mode": {
    "name": "ipython",
    "version": 3
   },
   "file_extension": ".py",
   "mimetype": "text/x-python",
   "name": "python",
   "nbconvert_exporter": "python",
   "pygments_lexer": "ipython3",
   "version": "3.13.0"
  }
 },
 "nbformat": 4,
 "nbformat_minor": 5
}
