{
 "cells": [
  {
   "cell_type": "markdown",
   "metadata": {},
   "source": [
    "Self corrective RAG with LangGraph"
   ]
  },
  {
   "cell_type": "code",
   "execution_count": 1,
   "metadata": {},
   "outputs": [
    {
     "data": {
      "text/plain": [
       "True"
      ]
     },
     "execution_count": 1,
     "metadata": {},
     "output_type": "execute_result"
    }
   ],
   "source": [
    "from dotenv import load_dotenv, find_dotenv\n",
    "import os\n",
    "load_dotenv(find_dotenv())"
   ]
  },
  {
   "cell_type": "markdown",
   "metadata": {},
   "source": [
    "**Create Vector DB**\n",
    "- Create a chroma db vector store using some sample documents about a restaurant. "
   ]
  },
  {
   "cell_type": "code",
   "execution_count": null,
   "metadata": {},
   "outputs": [],
   "source": [
    "from langchain.schema import Document\n",
    "from langchain_openai import OpenAIEmbeddings\n",
    "from langchain_community.vectorstores import Chroma\n",
    "\n",
    "embeddings = OpenAIEmbeddings()\n",
    "docs = [\n",
    "    Document(\n",
    "        page_content = \"Gourmet Haven is owned by celebrated chef and entrepreneur Lisa Martinez, is a popular dining spot known for its blend of tradition and innovation.\",\n",
    "        metadata={\"source\":\"restaurant.txt\"}\n",
    "    ),\n",
    "    Document(\n",
    "        page_content = \"Situated in the heart of downtown San Francisco, Gourmet Haven welcomes diners from 11:00 AM to 10:00 PM on weekdays and extends its hours until midnight on weekends.\",\n",
    "        metadata={\"source\":\"restaurant.txt\"}\n",
    "    ),\n",
    "    Document(\n",
    "        page_content = \"The menu at Gourmet Haven boasts a diverse selection, from freshly prepared seafood and prime steak cuts to plant-based dishes and artisanal pastas, ensuring options for every palate.\",\n",
    "        metadata={\"source\":\"restaurant.txt\"}\n",
    "    ),\n",
    "     Document(\n",
    "        page_content = \" The restaurant\\'s signature dish, Truffle Infused Lobster Risotto, paired with a curated wine selection, is highly recommended for those looking for an exquisite dining experience.\",\n",
    "        metadata={\"source\":\"restaurant.txt\"}\n",
    "    ),\n",
    "     Document(\n",
    "        page_content = \"Known for its cozy, upscale ambiance and attentive service, Gourmet Haven offers a perfect blend of comfort and luxury, making it ideal for romantic dinners or special celebrations.\",\n",
    "        metadata={\"source\":\"restaurant.txt\"}\n",
    "    )\n",
    "]\n",
    "vectorstore = Chroma.from_documents(docs, embeddings)\n",
    "retriever = vectorstore.as_retriever()"
   ]
  },
  {
   "cell_type": "markdown",
   "metadata": {},
   "source": [
    "**Create AgentState for storing state in LangGraph**"
   ]
  },
  {
   "cell_type": "markdown",
   "metadata": {},
   "source": [
    "![alt text](image.png)"
   ]
  },
  {
   "cell_type": "code",
   "execution_count": 7,
   "metadata": {},
   "outputs": [],
   "source": [
    "from typing_extensions import TypedDict\n",
    "\n",
    "class AgentState(TypedDict):\n",
    "    question:str\n",
    "    grades:list[str]\n",
    "    llm_output:str\n",
    "    documents:list[str]\n",
    "    on_topic:bool"
   ]
  },
  {
   "cell_type": "code",
   "execution_count": 24,
   "metadata": {},
   "outputs": [],
   "source": [
    "# Now define the methods for each nodes\n",
    "\n",
    "# Step 1: Retrieve documents related to user query\n",
    "def retrieve_docs(state: AgentState):\n",
    "    \"\"\"\n",
    "    Retrieve documents related to the user query.\n",
    "\n",
    "    Args:\n",
    "        state (AgentState): The current state of the agent.\n",
    "\n",
    "    Returns:\n",
    "        AgentState: The updated state with retrieved documents.\n",
    "    \"\"\"\n",
    "    # get the question from the state\n",
    "    question = state[\"question\"]\n",
    "    # get the documents related to the question\n",
    "    docs = retriever.get_relevant_documents(query=question)\n",
    "    for doc in docs:\n",
    "        print(doc)\n",
    "       \n",
    "    # update the state with the retrieved documents\n",
    "    state[\"documents\"] = docs\n",
    "    # return the updated state\n",
    "    return state\n"
   ]
  },
  {
   "cell_type": "code",
   "execution_count": 9,
   "metadata": {},
   "outputs": [],
   "source": [
    "# Step 2: Grade the question if it is relevant to RAG\n",
    "# use llm structured output to get the output in a format\n",
    "from langchain_core.pydantic_v1 import BaseModel, Field\n",
    "from langchain_openai import ChatOpenAI\n",
    "from langchain_core.prompts import ChatPromptTemplate\n",
    "\n",
    "class GradeQuestion(BaseModel):\n",
    "    \"\"\"Binary score if the question is relevant to Gourmet Haven\"\"\"\n",
    "\n",
    "    score: str = Field(description=\"question is about resturant? If yes -> 'Yes'if not->'No'\")\n",
    "\n",
    "def question_classifier(state: AgentState):\n",
    "    question = state[\"question\"]\n",
    "\n",
    "    system = \"\"\" You are a grader assessing the relevance of a retrieved document to a user question.\\n\n",
    "            Only answer if the question is about one of the following topics:\n",
    "            1. Information about the owner of Gourmet Haven\n",
    "            2. Prices of the dishes at Gourmet Haven\n",
    "            3. Opeation hours of Gourmet Haven\n",
    "            4. Special at Gourmet Haven\n",
    "            \n",
    "            If the question is about these topics reply with 'Yes', else response with 'No' \"\"\"\n",
    "    grade_prompt = ChatPromptTemplate.from_messages(\n",
    "        [\n",
    "            (\"system\", system),\n",
    "            (\"human\", \"User Question: {question}\"),\n",
    "        ]\n",
    "    )\n",
    "    llm= ChatOpenAI()\n",
    "    structed_llm = llm.with_structured_output(GradeQuestion)\n",
    "    chain = grade_prompt | structed_llm\n",
    "    result= chain.invoke({\"question\": question})\n",
    "    state[\"on_topic\"] = result.score\n",
    "    return state"
   ]
  },
  {
   "cell_type": "code",
   "execution_count": 10,
   "metadata": {},
   "outputs": [],
   "source": [
    "# Step 3: Check the State on_topic. If it is yes return on_topic else return off_topic. This will help us to route\n",
    "def on_topic_router(state:AgentState):\n",
    "    on_topic = state[\"on_topic\"]\n",
    "    if on_topic.lower() == \"yes\":\n",
    "        return \"on_topic\"\n",
    "    return \"off_topic\""
   ]
  },
  {
   "cell_type": "code",
   "execution_count": 12,
   "metadata": {},
   "outputs": [],
   "source": [
    "# Step 4: If it is Off-topic, then send the off-topic response. Here we can set the response without using the LLM.\n",
    "\n",
    "def off_topic_response(state: AgentState):\n",
    "    print(\"Off-topic response\")\n",
    "    state[\"llm_output\"] = \"Sorry!. I can't respond on this topic question\"\n",
    "    return state"
   ]
  },
  {
   "cell_type": "code",
   "execution_count": 13,
   "metadata": {},
   "outputs": [],
   "source": [
    "# Step 5: Perform the grading on the retrieved documents. For each document check with a llm whether \n",
    "# the docs is relevant. If so mark the document as yes other wise no. \n",
    "# Here also we can use structred output\n",
    "\n",
    "class gradeDocument(BaseModel):\n",
    "    \"\"\" Boolean values to check for relevance on retrieved documents\"\"\"\n",
    "    score: str = Field(description=\"Documents are relevant to the question 'Yes' or 'No'\")\n",
    "\n",
    "def document_grader(state: AgentState):\n",
    "    \"\"\"\n",
    "    Determine whether the retrieved documents are relevant to the question.\n",
    "    \"\"\"\n",
    "    # get the docs and question\n",
    "    docs = state[\"documents\"]\n",
    "    question = state[\"question\"]\n",
    "    # check the docs for relevance using llm\n",
    "\n",
    "    system = \"\"\"You are a world class algorithm to determine whether or not the documents retrieved are relevant to the question. \n",
    "    If the documents contains keyword(s) or semantic meaning related to the question, then grade it as relevant.\\n\n",
    "    Give a binary score 'yes' or 'no' score to indicate whether the document is relevant to the question.\"\"\"\n",
    "    \n",
    "    # prompt template\n",
    "    grade_prompt = ChatPromptTemplate.from_messages(\n",
    "        [\n",
    "            (\"system\", system),\n",
    "            (\"human\", \" Retrieved Document: {document}\\n User Question: {question}\"),\n",
    "        ]\n",
    "    )   \n",
    "\n",
    "    llm = ChatOpenAI()\n",
    "    structured_llm = llm.with_structured_output(gradeDocument)\n",
    "    chain = grade_prompt | structured_llm\n",
    "    scores =[]\n",
    "    for doc in docs:\n",
    "        result = chain.invoke({\"document\":doc,\"question\":question})\n",
    "        scores.append(result.score)\n",
    "    state[\"grades\"] = scores\n",
    "    return state"
   ]
  },
  {
   "cell_type": "code",
   "execution_count": 14,
   "metadata": {},
   "outputs": [],
   "source": [
    "# Based on the Grade, decide on whether to generate answer or do a rewrite query and query docs again\n",
    "def gen_router(state: AgentState):\n",
    "    grades = state[\"grades\"]\n",
    "    print(\"Document Grades:\",grades)\n",
    "\n",
    "    if any(grade.lower() == \"yes\" for grade in grades):\n",
    "        print(\"Getting documents with Grade as Yes\")\n",
    "        filtered_grades = [grade for grade in grades if grade.lower() == \"yes\"]\n",
    "        print(\"Filtered Grades:\", filtered_grades)\n",
    "        return \"generate\"\n",
    "    else:\n",
    "        print(\"Getting documents with Grade as No\")\n",
    "        filtered_grades = [grade for grade in grades if grade.lower() == \"no\"]\n",
    "        print(\"Filtered Grades:\", filtered_grades)\n",
    "        return \"rewrite_query\""
   ]
  },
  {
   "cell_type": "code",
   "execution_count": 15,
   "metadata": {},
   "outputs": [],
   "source": [
    "# Now the Re-Writter\n",
    "from langchain_core.output_parsers import StrOutputParser\n",
    "\n",
    "def rewriter(state: AgentState):\n",
    "    # get the question\n",
    "    question = state[\"question\"]\n",
    "    system = \"\"\"You a question re-writer that converts an input question to a better version that is optimized for\\\n",
    "                retrieval. Look at the input and try to reason about the underlying semantic intent /meaning.\"\"\"\n",
    "    re_writer_prompt = ChatPromptTemplate.from_messages(\n",
    "        [\n",
    "            (\"system\", system),\n",
    "            (\"human\", \"Here is the initial question:\\n\\n {question} \\n Formulate an improved question.\"),\n",
    "        ]\n",
    "    )\n",
    "    llm = ChatOpenAI()\n",
    "    question_rewriter_chain = re_writer_prompt | llm | StrOutputParser()\n",
    "    result = question_rewriter_chain.invoke({\"question\": question})\n",
    "    # set the new question\n",
    "    state[\"question\"] = result\n",
    "    return state\n"
   ]
  },
  {
   "cell_type": "code",
   "execution_count": 21,
   "metadata": {},
   "outputs": [],
   "source": [
    "# Everything is good, so we can generate the answer with the retrieved docs\n",
    "from langchain_core.prompts import ChatPromptTemplate\n",
    "from langchain.schema.output_parser import StrOutputParser\n",
    "def generate_answer(state: AgentState):\n",
    "    # get the question from state\n",
    "    question = state[\"question\"]\n",
    "    # get the retrieved docs from state\n",
    "    context = state[\"documents\"]\n",
    "\n",
    "    template = \"\"\" Answer the question based only on the following context\n",
    "    Question: {question} \n",
    "    \\n\n",
    "    Context: {context}\n",
    "    \"\"\"\n",
    "    prompt = ChatPromptTemplate.from_template(template)\n",
    "    llm = ChatOpenAI(model=\"gpt-3.5-turbo\", temperature=0)\n",
    "    chain = prompt | llm | StrOutputParser()\n",
    "    answer = chain.invoke({\"question\": question, \"context\": context})\n",
    "    # set the state's llm output \n",
    "    state[\"llm_output\"] = answer\n",
    "    # return back the updated state\n",
    "    return state"
   ]
  },
  {
   "cell_type": "markdown",
   "metadata": {},
   "source": [
    "**Now Define the Workflow**"
   ]
  },
  {
   "cell_type": "code",
   "execution_count": 25,
   "metadata": {},
   "outputs": [],
   "source": [
    "from langgraph.graph import StateGraph, END\n",
    "# define the langgraph workflow\n",
    "workflow = StateGraph(AgentState)\n",
    "\n",
    "# define the nodes\n",
    "# define a name to the node and set the corrsponding function to be called.\n",
    "workflow.add_node(\"topic_decision\",question_classifier)\n",
    "workflow.add_node(\"off_topic_response\",off_topic_response)\n",
    "workflow.add_node(\"retrieve_docs\",retrieve_docs)\n",
    "workflow.add_node(\"document_grader\", document_grader)\n",
    "workflow.add_node(\"rewrite_query\", rewriter)\n",
    "workflow.add_node(\"generate_answer\", generate_answer)\n",
    "\n",
    "# define the edges that connects the above nodes\n",
    "workflow.add_conditional_edges( \n",
    " \"topic_decision\",\n",
    "   on_topic_router,\n",
    "    {\n",
    "\n",
    "        \"off_topic\": \"off_topic_response\",\n",
    "        \"on_topic\": \"retrieve_docs\"\n",
    "    }\n",
    ")\n",
    "workflow.add_edge(\"retrieve_docs\", \"document_grader\")\n",
    "workflow.add_edge(\"off_topic_response\",END)\n",
    "workflow.add_conditional_edges(\"document_grader\",\n",
    "    gen_router,\n",
    "    {\n",
    "\n",
    "        \"generate\": \"generate_answer\",\n",
    "        \"rewrite_query\": \"rewrite_query\"\n",
    "    }\n",
    ")\n",
    "workflow.add_edge(\"rewrite_query\", \"retrieve_docs\")\n",
    "workflow.add_edge(\"generate_answer\", END)\n",
    "\n",
    "# set the entry point\n",
    "workflow.set_entry_point(\"topic_decision\")\n",
    "# compile the workflow\n",
    "app = workflow.compile()\n"
   ]
  },
  {
   "cell_type": "markdown",
   "metadata": {},
   "source": [
    "**Visualize the graph**"
   ]
  },
  {
   "cell_type": "code",
   "execution_count": 18,
   "metadata": {},
   "outputs": [
    {
     "data": {
      "image/png": "[encoded data removed]",
      "text/plain": [
       "<IPython.core.display.Image object>"
      ]
     },
     "metadata": {},
     "output_type": "display_data"
    }
   ],
   "source": [
    "from IPython.display import display, Image \n",
    "try:\n",
    "    display(Image(app.get_graph(xray=True).draw_mermaid_png()))\n",
    "except:\n",
    "    print(\"No graph found\")"
   ]
  },
  {
   "cell_type": "code",
   "execution_count": 19,
   "metadata": {},
   "outputs": [
    {
     "name": "stdout",
     "output_type": "stream",
     "text": [
      "Off-topic response\n"
     ]
    },
    {
     "data": {
      "text/plain": [
       "\"Sorry!. I can't respond on this topic question\""
      ]
     },
     "execution_count": 19,
     "metadata": {},
     "output_type": "execute_result"
    }
   ],
   "source": [
    "# Execute the Workflow\n",
    "result = app.invoke({\"question\":\"How is the weather?\"})\n",
    "result[\"llm_output\"]"
   ]
  },
  {
   "cell_type": "code",
   "execution_count": 26,
   "metadata": {},
   "outputs": [
    {
     "name": "stdout",
     "output_type": "stream",
     "text": [
      "page_content='Situated in the heart of downtown San Francisco, Gourmet Haven welcomes diners from 11:00 AM to 10:00 PM on weekdays and extends its hours until midnight on weekends.' metadata={'source': 'restaurant.txt'}\n",
      "page_content='The menu at Gourmet Haven boasts a diverse selection, from freshly prepared seafood and prime steak cuts to plant-based dishes and artisanal pastas, ensuring options for every palate.' metadata={'source': 'restaurant.txt'}\n",
      "page_content='Known for its cozy, upscale ambiance and attentive service, Gourmet Haven offers a perfect blend of comfort and luxury, making it ideal for romantic dinners or special celebrations.' metadata={'source': 'restaurant.txt'}\n",
      "page_content='Gourmet Haven is owned by celebrated chef and entrepreneur Lisa Martinez, is a popular dining spot known for its blend of tradition and innovation.' metadata={'source': 'restaurant.txt'}\n",
      "Document Grades: ['yes', 'no', 'no', 'no']\n",
      "Getting documents with Grade as Yes\n",
      "Filtered Grades: ['yes']\n"
     ]
    },
    {
     "data": {
      "text/plain": [
       "'Gourmet Haven is open from 11:00 AM to 10:00 PM on weekdays and extends its hours until midnight on weekends.'"
      ]
     },
     "execution_count": 26,
     "metadata": {},
     "output_type": "execute_result"
    }
   ],
   "source": [
    "result = app.invoke({\"question\":\"what is the hours of operation of Gourmet Haven?\"})\n",
    "result[\"llm_output\"]"
   ]
  }
 ],
 "metadata": {
  "kernelspec": {
   "display_name": ".venv",
   "language": "python",
   "name": "python3"
  },
  "language_info": {
   "codemirror_mode": {
    "name": "ipython",
    "version": 3
   },
   "file_extension": ".py",
   "mimetype": "text/x-python",
   "name": "python",
   "nbconvert_exporter": "python",
   "pygments_lexer": "ipython3",
   "version": "3.12.3"
  }
 },
 "nbformat": 4,
 "nbformat_minor": 2
}
